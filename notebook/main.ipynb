{
 "cells": [
  {
   "metadata": {},
   "cell_type": "markdown",
   "source": "# Data Ingestion",
   "id": "d1eb06e2943dc12e"
  },
  {
   "metadata": {
    "ExecuteTime": {
     "end_time": "2025-06-22T18:49:44.688901Z",
     "start_time": "2025-06-22T18:49:44.639360Z"
    }
   },
   "cell_type": "code",
   "source": [
    "import pandas as pd\n",
    "import kagglehub\n",
    "import shutil\n",
    "import os\n",
    "import warnings\n",
    "warnings.filterwarnings('ignore')\n",
    "\n",
    "\n",
    "def data_ingestion(link):\n",
    "    path = kagglehub.dataset_download(link)\n",
    "\n",
    "    custom_path = \"../data\"\n",
    "    os.makedirs(custom_path, exist_ok=True)\n",
    "\n",
    "    for filename in os.listdir(path):\n",
    "        shutil.copy(os.path.join(path, filename), os.path.join(custom_path, filename))\n",
    "\n",
    "    print(\"Files copied to:\", custom_path)\n",
    "\n",
    "    loaded_df = pd.read_csv(\"../data/WA_Fn-UseC_-Telco-Customer-Churn.csv\")\n",
    "    print(\"Data loaded in the data frame\")\n",
    "\n",
    "    return loaded_df"
   ],
   "id": "57766e0591829567",
   "outputs": [],
   "execution_count": 64
  },
  {
   "metadata": {},
   "cell_type": "markdown",
   "source": "# Data Preprocessing",
   "id": "dde379c813750a28"
  },
  {
   "metadata": {
    "ExecuteTime": {
     "end_time": "2025-06-22T19:03:35.579337Z",
     "start_time": "2025-06-22T19:03:35.562814Z"
    }
   },
   "cell_type": "code",
   "source": [
    "import pandas as pd\n",
    "\n",
    "def preprocess_data(df):\n",
    "    cols_to_keep = ['gender', 'tenure', 'MonthlyCharges', 'TotalCharges', 'Churn']\n",
    "    preprocessed_df = df[cols_to_keep].copy()\n",
    "\n",
    "    preprocessed_df['TotalCharges'] = pd.to_numeric(preprocessed_df['TotalCharges'], errors='coerce')\n",
    "    preprocessed_df['MonthlyCharges'] = pd.to_numeric(preprocessed_df['MonthlyCharges'], errors='coerce')\n",
    "    preprocessed_df.dropna(inplace=True)\n",
    "    preprocessed_df = preprocessed_df.drop_duplicates()\n",
    "\n",
    "    preprocessed_df['gender'] = preprocessed_df['gender'].map({'Male': 0, 'Female': 1})\n",
    "    preprocessed_df['Churn'] = preprocessed_df['Churn'].map({'No': 0, 'Yes': 1})\n",
    "\n",
    "    print(\"Data preprocessed\")\n",
    "    return preprocessed_df"
   ],
   "id": "f1144aa0ece79ce3",
   "outputs": [],
   "execution_count": 73
  },
  {
   "metadata": {
    "ExecuteTime": {
     "end_time": "2025-06-22T19:04:07.921200Z",
     "start_time": "2025-06-22T19:04:07.896182Z"
    }
   },
   "cell_type": "code",
   "source": [
    "from sklearn.preprocessing import StandardScaler\n",
    "import joblib\n",
    "\n",
    "\n",
    "def standardize_data(train_df, test_df):\n",
    "    cols_to_scale = ['tenure', 'MonthlyCharges', 'TotalCharges']\n",
    "\n",
    "    for col in cols_to_scale:\n",
    "        train_df[col] = pd.to_numeric(train_df[col], errors='coerce')\n",
    "        test_df[col] = pd.to_numeric(test_df[col], errors='coerce')\n",
    "\n",
    "    train_df.dropna(subset=cols_to_scale, inplace=True)\n",
    "    test_df.dropna(subset=cols_to_scale, inplace=True)\n",
    "\n",
    "    scaler = StandardScaler()\n",
    "\n",
    "    train_scaled = scaler.fit_transform(train_df[cols_to_scale])\n",
    "    test_scaled = scaler.transform(test_df[cols_to_scale])\n",
    "\n",
    "    joblib.dump(scaler, \"../models/standard_scaler.pkl\")\n",
    "    train_df[cols_to_scale] = pd.DataFrame(train_scaled, columns=cols_to_scale, index=train_df.index)\n",
    "    test_df[cols_to_scale] = pd.DataFrame(test_scaled, columns=cols_to_scale, index=test_df.index)\n",
    "\n",
    "    print(\"Data scaled\")\n",
    "    return train_df, test_df\n"
   ],
   "id": "c8b2d2d85b45723e",
   "outputs": [],
   "execution_count": 76
  },
  {
   "metadata": {},
   "cell_type": "markdown",
   "source": "## Main",
   "id": "5bc61eb18fe7773f"
  },
  {
   "metadata": {
    "ExecuteTime": {
     "end_time": "2025-06-22T19:08:04.061074Z",
     "start_time": "2025-06-22T19:08:03.498478Z"
    }
   },
   "cell_type": "code",
   "source": [
    "import pandas as pd\n",
    "from sklearn.model_selection import train_test_split\n",
    "\n",
    "def main():\n",
    "    try:\n",
    "        df = data_ingestion(\"blastchar/telco-customer-churn\")\n",
    "        preprocessed_df = preprocess_data(df)\n",
    "        train_data, test_data = train_test_split(preprocessed_df, test_size=0.2, random_state=42)\n",
    "        train_scaled_df, test_scaled_df = standardize_data(train_data, test_data)\n",
    "        save_data(train_scaled_df, \"preprocessed_train.csv\")\n",
    "        save_data(test_scaled_df, \"preprocessed_test.csv\")\n",
    "    except Exception as e:\n",
    "        print(f\"Error: {e}\")\n",
    "        print(\"Failed to complete the data ingestion process.\")\n",
    "\n",
    "if __name__ == '__main__':\n",
    "    main()"
   ],
   "id": "2a108d1d8af016b6",
   "outputs": [
    {
     "name": "stdout",
     "output_type": "stream",
     "text": [
      "Files copied to: ../data\n",
      "Data loaded in the data frame\n",
      "Data preprocessed\n",
      "Data scaled\n",
      "preprocessed_train.csv saved\n",
      "preprocessed_test.csv saved\n"
     ]
    }
   ],
   "execution_count": 83
  },
  {
   "metadata": {},
   "cell_type": "markdown",
   "source": "# Feature Engineering",
   "id": "4e1bd497e3343f51"
  },
  {
   "metadata": {
    "ExecuteTime": {
     "end_time": "2025-06-22T19:08:18.585168Z",
     "start_time": "2025-06-22T19:08:18.508553Z"
    }
   },
   "cell_type": "code",
   "source": [
    "import pandas as pd\n",
    "\n",
    "train_df = pd.read_csv(\"../data/preprocessed_train.csv\")\n",
    "test_df = pd.read_csv(\"../data/preprocessed_test.csv\")\n",
    "\n",
    "train_df[\"total_charges_per_tenure\"] = train_df[\"TotalCharges\"] / train_df[\"tenure\"]\n",
    "test_df[\"total_charges_per_tenure\"] = test_df[\"TotalCharges\"] / test_df[\"tenure\"]\n",
    "\n",
    "save_data(train_df, \"final_train.csv\")\n",
    "save_data(test_df, \"final_test.csv\")"
   ],
   "id": "865353c8d61809a0",
   "outputs": [
    {
     "name": "stdout",
     "output_type": "stream",
     "text": [
      "final_train.csv saved\n",
      "final_test.csv saved\n"
     ]
    }
   ],
   "execution_count": 84
  },
  {
   "metadata": {
    "ExecuteTime": {
     "end_time": "2025-06-22T19:15:47.531257Z",
     "start_time": "2025-06-22T19:15:45.206945Z"
    }
   },
   "cell_type": "code",
   "source": [
    "import numpy as np\n",
    "import pandas as pd\n",
    "import pickle\n",
    "from sklearn.ensemble import RandomForestRegressor\n",
    "\n",
    "train_df = pd.read_csv('../data/final_train.csv')\n",
    "\n",
    "y_train = train_df['Churn']\n",
    "X_train = train_df.drop('Churn', axis=1)\n",
    "\n",
    "rf_model = RandomForestRegressor()\n",
    "rf_model.fit(X_train, y_train)\n",
    "\n",
    "joblib.dump(rf_model, \"../models/rf_model.pkl\")"
   ],
   "id": "2f032d06df8963b2",
   "outputs": [
    {
     "data": {
      "text/plain": [
       "['../models/rf_model.pkl']"
      ]
     },
     "execution_count": 88,
     "metadata": {},
     "output_type": "execute_result"
    }
   ],
   "execution_count": 88
  },
  {
   "metadata": {
    "ExecuteTime": {
     "end_time": "2025-06-22T23:18:54.528334Z",
     "start_time": "2025-06-22T23:18:50.373075Z"
    }
   },
   "cell_type": "code",
   "source": [
    "import joblib\n",
    "from sklearn.metrics import mean_absolute_error, r2_score\n",
    "import json\n",
    "import pandas as pd\n",
    "\n",
    "\n",
    "test_df = pd.read_csv('../data/featurized/final_test.csv')\n",
    "\n",
    "y_test = test_df['Churn']\n",
    "X_test = test_df.drop('Churn', axis=1)\n",
    "\n",
    "rf_model = joblib.load(\"../models/rf_model.pkl\")\n",
    "\n",
    "y_pred = rf_model.predict(X_test)\n",
    "\n",
    "mae = mean_absolute_error(y_test, y_pred)\n",
    "r2 = r2_score(y_test, y_pred)\n",
    "\n",
    "print(f\"Mean Absolute Error: {mae:.4f}\")\n",
    "print(f\"R² Score: {r2:.4f}\")"
   ],
   "id": "f7cd346d16713c07",
   "outputs": [
    {
     "name": "stdout",
     "output_type": "stream",
     "text": [
      "Mean Absolute Error: 0.2904\n",
      "R² Score: 0.1239\n"
     ]
    }
   ],
   "execution_count": 3
  },
  {
   "metadata": {},
   "cell_type": "code",
   "outputs": [],
   "execution_count": null,
   "source": "",
   "id": "761312cdca9f5b59"
  }
 ],
 "metadata": {
  "kernelspec": {
   "display_name": "Python 3",
   "language": "python",
   "name": "python3"
  },
  "language_info": {
   "codemirror_mode": {
    "name": "ipython",
    "version": 2
   },
   "file_extension": ".py",
   "mimetype": "text/x-python",
   "name": "python",
   "nbconvert_exporter": "python",
   "pygments_lexer": "ipython2",
   "version": "2.7.6"
  }
 },
 "nbformat": 4,
 "nbformat_minor": 5
}
